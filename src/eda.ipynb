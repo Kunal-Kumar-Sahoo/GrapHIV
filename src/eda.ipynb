{
 "cells": [
  {
   "cell_type": "code",
   "execution_count": 13,
   "metadata": {},
   "outputs": [],
   "source": [
    "import pandas as pd\n",
    "from sklearn.model_selection import train_test_split\n",
    "from imblearn.over_sampling import RandomOverSampler"
   ]
  },
  {
   "cell_type": "code",
   "execution_count": 3,
   "metadata": {},
   "outputs": [
    {
     "name": "stdout",
     "output_type": "stream",
     "text": [
      "Shape of the data: (41127, 3)\n",
      "Columns:\n",
      " Index(['smiles', 'activity', 'HIV_active'], dtype='object')\n",
      "Class distribution:\n",
      " HIV_active\n",
      "0    39684\n",
      "1     1443\n",
      "Name: count, dtype: int64\n"
     ]
    }
   ],
   "source": [
    "data = pd.read_csv(\"../data/raw/HIV.csv\")\n",
    "columns = data.columns\n",
    "print(\"Shape of the data:\", data.shape)\n",
    "print(\"Columns:\\n\", columns)\n",
    "print(\"Class distribution:\\n\", data[\"HIV_active\"].value_counts())"
   ]
  },
  {
   "cell_type": "code",
   "execution_count": 4,
   "metadata": {},
   "outputs": [
    {
     "name": "stdout",
     "output_type": "stream",
     "text": [
      "Shape of X_train, X_test, y_train, y_test: (32901, 2) (8226, 2) (32901,) (8226,)\n"
     ]
    }
   ],
   "source": [
    "X = data.drop(columns=[\"HIV_active\"], axis=1)\n",
    "y = data[\"HIV_active\"]\n",
    "\n",
    "X_train, X_test, y_train, y_test = train_test_split(X, y, test_size=0.2, random_state=42, shuffle=True)\n",
    "print(\"Shape of X_train, X_test, y_train, y_test:\", X_train.shape, X_test.shape, y_train.shape, y_test.shape)"
   ]
  },
  {
   "cell_type": "code",
   "execution_count": 6,
   "metadata": {},
   "outputs": [
    {
     "name": "stdout",
     "output_type": "stream",
     "text": [
      "Shape of train and test dataframes (32901, 3) (8226, 3)\n",
      "Head of train dataframe:\n",
      "                                                   smiles activity  HIV_active\n",
      "29361                   O=C(O)CC(NC(=O)OCc1ccccc1)C(=O)O       CI           0\n",
      "10448               O=[N+]([O-])c1ccc(Nc2ccccc2)c2nonc12       CI           0\n",
      "31039    CCOC(=O)C(=NNc1ccc(C)cc1)N1C(=S)N(C)N=C(C)C=C1S       CI           0\n",
      "1311                     N#CSC1=C(SC#N)C(=O)c2ccccc2C1=O       CI           0\n",
      "27834  COc1cc(C2C3=C(COC3=O)OC(C)(C)Oc3cc4c(cc32)OCO4...       CI           0\n",
      "Head of test dataframe:\n",
      "                                                   smiles activity  HIV_active\n",
      "24748  O=C1C(=Cc2ccc(O)cc2)N=C(c2ccccc2)N1n1c(-c2cccc...       CI           0\n",
      "25440  Cc1c(CCN=P(c2ccccc2)(c2ccccc2)c2ccccc2)c(=O)n2...       CI           0\n",
      "9889                    O=C1OC(=O)C2C3CCCCC3=C3CCCCC3C12       CI           0\n",
      "17972           CC(=O)NC(ON1C(=O)COc2ccccc21)C(Cl)(Cl)Cl       CI           0\n",
      "15331  COc1ccc(CCN(C)CCCC(C#N)(c2ccc(OC)c(OC)c2)C(C)C...       CI           0\n"
     ]
    }
   ],
   "source": [
    "train_data = pd.DataFrame(pd.concat([X_train, y_train], axis=1), columns=columns)\n",
    "test_data = pd.DataFrame(pd.concat([X_test, y_test], axis=1), columns=columns)\n",
    "\n",
    "print(\"Shape of train and test dataframes\", train_data.shape, test_data.shape)\n",
    "print(\"Head of train dataframe:\\n\", train_data.head())\n",
    "print(\"Head of test dataframe:\\n\", test_data.head())"
   ]
  },
  {
   "cell_type": "code",
   "execution_count": 9,
   "metadata": {},
   "outputs": [
    {
     "name": "stdout",
     "output_type": "stream",
     "text": [
      "Class distribution for train data:\n",
      " HIV_active\n",
      "0    0.965168\n",
      "1    0.034832\n",
      "Name: count, dtype: float64\n",
      "Class distribution for test data:\n",
      " HIV_active\n",
      "0    0.963895\n",
      "1    0.036105\n",
      "Name: count, dtype: float64\n"
     ]
    }
   ],
   "source": [
    "print(\"Class distribution for train data:\\n\", train_data[\"HIV_active\"].value_counts() / train_data.shape[0])\n",
    "print(\"Class distribution for test data:\\n\", test_data[\"HIV_active\"].value_counts() / test_data.shape[0])"
   ]
  },
  {
   "cell_type": "code",
   "execution_count": 12,
   "metadata": {},
   "outputs": [
    {
     "name": "stdout",
     "output_type": "stream",
     "text": [
      "Test data frame saved to a `.csv` file\n"
     ]
    }
   ],
   "source": [
    "test_data.to_csv(\"../data/raw/HIV_test.csv\", index=None)\n",
    "print(\"Test data frame saved to a `.csv` file\")"
   ]
  },
  {
   "cell_type": "code",
   "execution_count": 15,
   "metadata": {},
   "outputs": [
    {
     "name": "stdout",
     "output_type": "stream",
     "text": [
      "Class distribution for train data:\n",
      " HIV_active\n",
      "0    0.5\n",
      "1    0.5\n",
      "Name: count, dtype: float64\n"
     ]
    }
   ],
   "source": [
    "ros = RandomOverSampler(random_state=42)\n",
    "X_resampled, y_resampled = ros.fit_resample(X_train, y_train)\n",
    "train_data = pd.DataFrame(pd.concat([X_resampled, y_resampled], axis=1), columns=columns)\n",
    "\n",
    "print(\"Class distribution for train data:\\n\", train_data[\"HIV_active\"].value_counts() / train_data.shape[0])"
   ]
  },
  {
   "cell_type": "code",
   "execution_count": 16,
   "metadata": {},
   "outputs": [
    {
     "name": "stdout",
     "output_type": "stream",
     "text": [
      "Head of training data:                                               smiles activity  HIV_active\n",
      "0                   O=C(O)CC(NC(=O)OCc1ccccc1)C(=O)O       CI           0\n",
      "1               O=[N+]([O-])c1ccc(Nc2ccccc2)c2nonc12       CI           0\n",
      "2    CCOC(=O)C(=NNc1ccc(C)cc1)N1C(=S)N(C)N=C(C)C=C1S       CI           0\n",
      "3                    N#CSC1=C(SC#N)C(=O)c2ccccc2C1=O       CI           0\n",
      "4  COc1cc(C2C3=C(COC3=O)OC(C)(C)Oc3cc4c(cc32)OCO4...       CI           0\n",
      "Statistical description:          HIV_active\n",
      "count  63510.000000\n",
      "mean       0.500000\n",
      "std        0.500004\n",
      "min        0.000000\n",
      "25%        0.000000\n",
      "50%        0.500000\n",
      "75%        1.000000\n",
      "max        1.000000\n"
     ]
    }
   ],
   "source": [
    "print(\"Head of training data:\", train_data.head())\n",
    "print(\"Statistical description:\", train_data.describe())"
   ]
  },
  {
   "cell_type": "code",
   "execution_count": 20,
   "metadata": {},
   "outputs": [
    {
     "name": "stdout",
     "output_type": "stream",
     "text": [
      "Train Data exported to a `.csv` file successfully!\n"
     ]
    }
   ],
   "source": [
    "train_data.to_csv(\"../data/raw/HIV_train.csv\", index=None)\n",
    "print(\"Train Data exported to a `.csv` file successfully!\")"
   ]
  }
 ],
 "metadata": {
  "kernelspec": {
   "display_name": "venv",
   "language": "python",
   "name": "python3"
  },
  "language_info": {
   "codemirror_mode": {
    "name": "ipython",
    "version": 3
   },
   "file_extension": ".py",
   "mimetype": "text/x-python",
   "name": "python",
   "nbconvert_exporter": "python",
   "pygments_lexer": "ipython3",
   "version": "3.10.12"
  }
 },
 "nbformat": 4,
 "nbformat_minor": 2
}
